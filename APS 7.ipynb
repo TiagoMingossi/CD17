{
 "cells": [
  {
   "cell_type": "markdown",
   "metadata": {},
   "source": [
    "# APS 7"
   ]
  },
  {
   "cell_type": "code",
   "execution_count": 11,
   "metadata": {
    "collapsed": true
   },
   "outputs": [],
   "source": [
    "%matplotlib inline\n",
    "import numpy as np\n",
    "import matplotlib as plt\n",
    "import pandas as pd\n",
    "from scipy import stats\n",
    "import math\n"
   ]
  },
  {
   "cell_type": "code",
   "execution_count": 12,
   "metadata": {
    "collapsed": true
   },
   "outputs": [],
   "source": [
    "dados = [129.26, 204.49, 116.89, 106.4 , 95.3 , 123.35, 92.3 , 300.02, 264.34, 168.27, 80.02, 117.96, 117.73, 370.47, 462.59, 92.58, 258.52, 82.59]\n",
    "dados = pd.Series(dados)\n",
    "tamanho = len(dados)"
   ]
  },
  {
   "cell_type": "code",
   "execution_count": 13,
   "metadata": {
    "collapsed": false
   },
   "outputs": [
    {
     "name": "stdout",
     "output_type": "stream",
     "text": [
      "Média:  176.83777777777777\n",
      "Desvio padrão amostral:  110.95287190067022\n"
     ]
    }
   ],
   "source": [
    "media = np.mean(dados)\n",
    "desviopadrao = np.std(dados,ddof=1)\n",
    "print(\"Média: \", media)\n",
    "print(\"Desvio padrão amostral: \", desviopadrao)"
   ]
  },
  {
   "cell_type": "code",
   "execution_count": 14,
   "metadata": {
    "collapsed": false
   },
   "outputs": [
    {
     "name": "stdout",
     "output_type": "stream",
     "text": [
      "Limite inferior: 117.1659\n",
      "Limite superior: 247.44415\n"
     ]
    },
    {
     "data": {
      "image/png": "[encoded data removed]",
      "text/plain": [
       "<matplotlib.figure.Figure at 0x275568b3da0>"
      ]
     },
     "metadata": {},
     "output_type": "display_data"
    }
   ],
   "source": [
    "numero = 10\n",
    "lista_media = []\n",
    "\n",
    "x = 10000\n",
    "for i in range(x):\n",
    "    amostra = np.random.choice(dados, size=numero, replace=True)\n",
    "    mediax = np.mean(amostra)\n",
    "    lista_media.append(mediax)\n",
    "    \n",
    "INFERIOR = np.percentile(lista_media, 2.5)\n",
    "SUPERIOR = np.percentile(lista_media, 97.5)\n",
    "\n",
    "print('Limite inferior:', INFERIOR)\n",
    "print('Limite superior:', SUPERIOR)\n",
    "\n",
    "pd.Series(lista_media).plot.hist(normed=True, legend=False);"
   ]
  },
  {
   "cell_type": "code",
   "execution_count": 15,
   "metadata": {
    "collapsed": false
   },
   "outputs": [
    {
     "name": "stdout",
     "output_type": "stream",
     "text": [
      "Limite inferior: 34.7546751121\n",
      "Limite superior: 147.268195069\n"
     ]
    },
    {
     "data": {
      "image/png": "[encoded data removed]",
      "text/plain": [
       "<matplotlib.figure.Figure at 0x27558281ba8>"
      ]
     },
     "metadata": {},
     "output_type": "display_data"
    }
   ],
   "source": [
    "numero = 10\n",
    "lista_media = []\n",
    "\n",
    "x = 10000\n",
    "for i in range(x):\n",
    "    amostra = np.random.choice(dados, size=numero, replace=True)\n",
    "    mediax = np.std(amostra)\n",
    "    lista_media.append(mediax)\n",
    "\n",
    "INFERIOR = np.percentile(lista_media, 2.5)\n",
    "SUPERIOR = np.percentile(lista_media, 97.5)\n",
    "\n",
    "print('Limite inferior:', INFERIOR)\n",
    "print('Limite superior:', SUPERIOR)\n",
    "\n",
    "pd.Series(lista_media).plot.hist(normed=True, legend=False);"
   ]
  }
 ],
 "metadata": {
  "kernelspec": {
   "display_name": "Python 3",
   "language": "python",
   "name": "python3"
  },
  "language_info": {
   "codemirror_mode": {
    "name": "ipython",
    "version": 3
   },
   "file_extension": ".py",
   "mimetype": "text/x-python",
   "name": "python",
   "nbconvert_exporter": "python",
   "pygments_lexer": "ipython3",
   "version": "3.6.0"
  }
 },
 "nbformat": 4,
 "nbformat_minor": 2
}
